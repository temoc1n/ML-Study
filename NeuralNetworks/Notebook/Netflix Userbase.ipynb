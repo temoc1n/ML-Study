{
 "cells": [
  {
   "cell_type": "code",
   "execution_count": 96,
   "id": "d11ed6d5",
   "metadata": {},
   "outputs": [],
   "source": [
    "import numpy as np\n",
    "import pandas as pd"
   ]
  },
  {
   "cell_type": "code",
   "execution_count": 153,
   "id": "ce0f8078",
   "metadata": {},
   "outputs": [],
   "source": [
    "# Activation = ReLu -> max(0, total + bias)\n",
    "# Loss = MAE -> mean(abs(y_total - y_target))\n",
    "# Optimizer = ADAM -> ? \n",
    "# Output = Linear\n",
    "\n",
    "class Network:\n",
    "    def __init__(self, inputs, target=2, layers=2, units=(5,5), epochs=100):\n",
    "        self.inputs = inputs\n",
    "        if layers == len(units):\n",
    "            self.layers = layers\n",
    "            self.units = units\n",
    "        else:\n",
    "            raise ValueError('Units should have the same lenght of the value of Layers')\n",
    "            \n",
    "    def train(self):\n",
    "        for layer in range(len(self.layers)):\n",
    "            new_layer = Layer(self.units[layer])\n",
    "            new_layer.create_units()\n",
    "                "
   ]
  },
  {
   "cell_type": "code",
   "execution_count": 152,
   "id": "5b8a541c",
   "metadata": {},
   "outputs": [],
   "source": [
    "class Layer:\n",
    "    def __init__(self, units, layer_inputs):\n",
    "        self.units = units\n",
    "        self.layer_inputs = layer_inputs\n",
    "        \n",
    "    def create_units(self):\n",
    "        total_Y = []\n",
    "        for i in range(self.units):\n",
    "            unit = Unit(self.layer_inputs)\n",
    "            unit_value = unit.predict()\n",
    "            total_Y.append(unit_value)\n",
    "        return total_Y"
   ]
  },
  {
   "cell_type": "code",
   "execution_count": 132,
   "id": "f093dd54",
   "metadata": {},
   "outputs": [],
   "source": [
    "class Unit:\n",
    "    def __init__(self, layer_inputs, activation='relu'):\n",
    "        self.activation = activation.lower()\n",
    "        self.layer_inputs = layer_inputs\n",
    "        \n",
    "    #relu = max(0, ((Wx1 + wx2 + wxn) + b))\n",
    "    def relu(self, total, bias):\n",
    "        return max(0, total + bias)\n",
    "    \n",
    "    def predict(self):\n",
    "        prediction = []\n",
    "        bias = np.random.randint(1, 10)\n",
    "        for value in self.layer_inputs:\n",
    "            weight = np.random.rand(1) * 10\n",
    "            prediction.append(value + weight)\n",
    "        return self.relu(np.sum(prediction), bias)"
   ]
  },
  {
   "cell_type": "code",
   "execution_count": 107,
   "id": "f2b8b555",
   "metadata": {},
   "outputs": [],
   "source": [
    "if __name__ == '__main__':\n",
    "    \n",
    "    X = np.random.rand(1) * 20\n",
    "    \n",
    "    network = Network(X)"
   ]
  }
 ],
 "metadata": {
  "kernelspec": {
   "display_name": "Python 3 (ipykernel)",
   "language": "python",
   "name": "python3"
  },
  "language_info": {
   "codemirror_mode": {
    "name": "ipython",
    "version": 3
   },
   "file_extension": ".py",
   "mimetype": "text/x-python",
   "name": "python",
   "nbconvert_exporter": "python",
   "pygments_lexer": "ipython3",
   "version": "3.11.4"
  }
 },
 "nbformat": 4,
 "nbformat_minor": 5
}
